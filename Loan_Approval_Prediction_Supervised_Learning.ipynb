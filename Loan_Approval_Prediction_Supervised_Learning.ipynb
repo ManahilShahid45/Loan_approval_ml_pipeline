{
 "cells": [
  {
   "cell_type": "markdown",
   "id": "4492bb77-ee3b-45a0-90de-91e551eebb2b",
   "metadata": {},
   "source": [
    "### Loan Approval Prediction using Supervised Machine Learning"
   ]
  },
  {
   "cell_type": "code",
   "execution_count": 1,
   "id": "e22caa11-a591-4809-96bd-0ac3d46aa81e",
   "metadata": {},
   "outputs": [],
   "source": [
    "# Import libraries\n",
    "import pandas as pd\n",
    "import numpy as np\n",
    "import matplotlib.pyplot as plt\n",
    "import seaborn as sns\n",
    "\n",
    "from sklearn.model_selection import train_test_split\n",
    "from sklearn.preprocessing import LabelEncoder\n",
    "from sklearn.impute import SimpleImputer\n",
    "from sklearn.metrics import classification_report, confusion_matrix, roc_auc_score, accuracy_score\n",
    "from sklearn.linear_model import LogisticRegression\n",
    "from sklearn.tree import DecisionTreeClassifier\n",
    "from sklearn.ensemble import RandomForestClassifier"
   ]
  },
  {
   "cell_type": "code",
   "execution_count": 2,
   "id": "29fb9a1c-9e7c-4db8-b93f-4e78be529a06",
   "metadata": {},
   "outputs": [
    {
     "name": "stdout",
     "output_type": "stream",
     "text": [
      "Dataset shape: (614, 13)\n",
      "\n",
      "Sample data:\n",
      "    Loan_ID Gender Married Dependents     Education Self_Employed  \\\n",
      "0  LP001002   Male      No          0      Graduate            No   \n",
      "1  LP001003   Male     Yes          1      Graduate            No   \n",
      "2  LP001005   Male     Yes          0      Graduate           Yes   \n",
      "3  LP001006   Male     Yes          0  Not Graduate            No   \n",
      "4  LP001008   Male      No          0      Graduate            No   \n",
      "\n",
      "   ApplicantIncome  CoapplicantIncome  LoanAmount  Loan_Amount_Term  \\\n",
      "0             5849                0.0         NaN             360.0   \n",
      "1             4583             1508.0       128.0             360.0   \n",
      "2             3000                0.0        66.0             360.0   \n",
      "3             2583             2358.0       120.0             360.0   \n",
      "4             6000                0.0       141.0             360.0   \n",
      "\n",
      "   Credit_History Property_Area Loan_Status  \n",
      "0             1.0         Urban           Y  \n",
      "1             1.0         Rural           N  \n",
      "2             1.0         Urban           Y  \n",
      "3             1.0         Urban           Y  \n",
      "4             1.0         Urban           Y  \n"
     ]
    }
   ],
   "source": [
    "# STEP 1: Load Dataset\n",
    "\n",
    "df = pd.read_csv(\"C:/Users/PMLS/OneDrive/Desktop/loan_approval/train_u6lujuX_CVtuZ9i.csv\")  # Replace with path to train.csv\n",
    "print(f\"Dataset shape: {df.shape}\")\n",
    "print(\"\\nSample data:\")\n",
    "print(df.head())"
   ]
  },
  {
   "cell_type": "code",
   "execution_count": 3,
   "id": "d7cf2563-3a1f-4714-b2e5-3fc561fd9f68",
   "metadata": {},
   "outputs": [
    {
     "name": "stdout",
     "output_type": "stream",
     "text": [
      "\n",
      "Categorical columns: ['Gender', 'Married', 'Dependents', 'Education', 'Self_Employed', 'Property_Area', 'Loan_Status']\n",
      "\n",
      "Remaining missing values:\n",
      "Gender                0\n",
      "Married               0\n",
      "Dependents            0\n",
      "Education             0\n",
      "Self_Employed         0\n",
      "ApplicantIncome       0\n",
      "CoapplicantIncome     0\n",
      "LoanAmount           22\n",
      "Loan_Amount_Term     14\n",
      "Credit_History       50\n",
      "Property_Area         0\n",
      "Loan_Status           0\n",
      "dtype: int64\n"
     ]
    }
   ],
   "source": [
    "# STEP 2: Basic Preprocessing\n",
    "\n",
    "# Drop Loan_ID (non-informative)\n",
    "df.drop(\"Loan_ID\", axis=1, inplace=True)\n",
    "\n",
    "# Encode categorical variables\n",
    "cat_cols = df.select_dtypes(include='object').columns\n",
    "print(f\"\\nCategorical columns: {cat_cols.tolist()}\")\n",
    "\n",
    "# Impute missing values\n",
    "imputer = SimpleImputer(strategy='most_frequent')\n",
    "df[cat_cols] = imputer.fit_transform(df[cat_cols])\n",
    "\n",
    "# Encode labels using LabelEncoder\n",
    "le = LabelEncoder()\n",
    "for col in cat_cols:\n",
    "    df[col] = le.fit_transform(df[col])\n",
    "\n",
    "# Check for remaining nulls\n",
    "print(f\"\\nRemaining missing values:\\n{df.isnull().sum()}\")\n",
    "\n",
    "# Impute numerical missing values (if any)\n",
    "num_cols = df.select_dtypes(include=np.number).columns\n",
    "df[num_cols] = SimpleImputer(strategy='mean').fit_transform(df[num_cols])"
   ]
  },
  {
   "cell_type": "code",
   "execution_count": 4,
   "id": "2b01ad59-4c59-4ff2-ac81-4b435cae7b70",
   "metadata": {},
   "outputs": [],
   "source": [
    "# STEP 3: Train-Test Split\n",
    "\n",
    "X = df.drop(\"Loan_Status\", axis=1)\n",
    "y = df[\"Loan_Status\"]\n",
    "\n",
    "# Split into training and validation sets\n",
    "X_train, X_val, y_train, y_val = train_test_split(X, y, test_size=0.2, random_state=42)"
   ]
  },
  {
   "cell_type": "code",
   "execution_count": 5,
   "id": "932b30c5-f9f6-44b3-8051-2000cca60e5a",
   "metadata": {},
   "outputs": [
    {
     "name": "stderr",
     "output_type": "stream",
     "text": [
      "C:\\Program Files\\Python313\\Lib\\site-packages\\sklearn\\linear_model\\_logistic.py:473: ConvergenceWarning: lbfgs failed to converge after 1000 iteration(s) (status=1):\n",
      "STOP: TOTAL NO. OF ITERATIONS REACHED LIMIT\n",
      "\n",
      "Increase the number of iterations to improve the convergence (max_iter=1000).\n",
      "You might also want to scale the data as shown in:\n",
      "    https://scikit-learn.org/stable/modules/preprocessing.html\n",
      "Please also refer to the documentation for alternative solver options:\n",
      "    https://scikit-learn.org/stable/modules/linear_model.html#logistic-regression\n",
      "  n_iter_i = _check_optimize_result(\n"
     ]
    },
    {
     "name": "stdout",
     "output_type": "stream",
     "text": [
      "\n",
      "Logistic Regression Results:\n",
      "[[18 25]\n",
      " [ 1 79]]\n",
      "              precision    recall  f1-score   support\n",
      "\n",
      "         0.0       0.95      0.42      0.58        43\n",
      "         1.0       0.76      0.99      0.86        80\n",
      "\n",
      "    accuracy                           0.79       123\n",
      "   macro avg       0.85      0.70      0.72       123\n",
      "weighted avg       0.83      0.79      0.76       123\n",
      "\n",
      "Accuracy: 0.7886 | AUC: 0.7031\n",
      "\n",
      "Decision Tree Results:\n",
      "[[23 20]\n",
      " [15 65]]\n",
      "              precision    recall  f1-score   support\n",
      "\n",
      "         0.0       0.61      0.53      0.57        43\n",
      "         1.0       0.76      0.81      0.79        80\n",
      "\n",
      "    accuracy                           0.72       123\n",
      "   macro avg       0.68      0.67      0.68       123\n",
      "weighted avg       0.71      0.72      0.71       123\n",
      "\n",
      "Accuracy: 0.7154 | AUC: 0.6737\n",
      "\n",
      "Random Forest Results:\n",
      "[[18 25]\n",
      " [ 3 77]]\n",
      "              precision    recall  f1-score   support\n",
      "\n",
      "         0.0       0.86      0.42      0.56        43\n",
      "         1.0       0.75      0.96      0.85        80\n",
      "\n",
      "    accuracy                           0.77       123\n",
      "   macro avg       0.81      0.69      0.70       123\n",
      "weighted avg       0.79      0.77      0.75       123\n",
      "\n",
      "Accuracy: 0.7724 | AUC: 0.6906\n"
     ]
    }
   ],
   "source": [
    "# STEP 4: Train ML Models\n",
    "\n",
    "models = {\n",
    "    \"Logistic Regression\": LogisticRegression(max_iter=1000),\n",
    "    \"Decision Tree\": DecisionTreeClassifier(random_state=42),\n",
    "    \"Random Forest\": RandomForestClassifier(n_estimators=100, random_state=42)\n",
    "}\n",
    "\n",
    "results = {}\n",
    "\n",
    "for name, model in models.items():\n",
    "    model.fit(X_train, y_train)\n",
    "    y_pred = model.predict(X_val)\n",
    "    acc = accuracy_score(y_val, y_pred)\n",
    "    auc = roc_auc_score(y_val, y_pred)\n",
    "    print(f\"\\n{name} Results:\")\n",
    "    print(confusion_matrix(y_val, y_pred))\n",
    "    print(classification_report(y_val, y_pred))\n",
    "    print(f\"Accuracy: {acc:.4f} | AUC: {auc:.4f}\")\n",
    "    results[name] = (acc, auc)"
   ]
  },
  {
   "cell_type": "code",
   "execution_count": 6,
   "id": "2f96afbd-7c14-4524-aeac-f1f6a806d0e2",
   "metadata": {},
   "outputs": [
    {
     "data": {
      "image/png": "[encoded data removed]",
      "text/plain": [
       "<Figure size 1000x500 with 1 Axes>"
      ]
     },
     "metadata": {},
     "output_type": "display_data"
    }
   ],
   "source": [
    "# STEP 5: Visualize Model Performance\n",
    "\n",
    "results_df = pd.DataFrame(results, index=[\"Accuracy\", \"AUC\"]).T\n",
    "results_df.plot(kind=\"bar\", figsize=(10, 5), legend=True)\n",
    "plt.title(\"Model Comparison\")\n",
    "plt.ylabel(\"Score\")\n",
    "plt.xticks(rotation=45)\n",
    "plt.grid(axis=\"y\")\n",
    "plt.tight_layout()\n",
    "plt.show()"
   ]
  }
 ],
 "metadata": {
  "kernelspec": {
   "display_name": "Python 3 (ipykernel)",
   "language": "python",
   "name": "python3"
  },
  "language_info": {
   "codemirror_mode": {
    "name": "ipython",
    "version": 3
   },
   "file_extension": ".py",
   "mimetype": "text/x-python",
   "name": "python",
   "nbconvert_exporter": "python",
   "pygments_lexer": "ipython3",
   "version": "3.13.1"
  }
 },
 "nbformat": 4,
 "nbformat_minor": 5
}
